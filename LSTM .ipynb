{
 "cells": [
  {
   "cell_type": "markdown",
   "id": "7a310700",
   "metadata": {},
   "source": [
    "# Music Generation using LSTM "
   ]
  },
  {
   "cell_type": "markdown",
   "id": "e7e69c3c",
   "metadata": {},
   "source": [
    "Importing the necessary prerequisite libraries\n",
    "\n"
   ]
  },
  {
   "cell_type": "code",
   "execution_count": 1,
   "id": "b78b4575",
   "metadata": {},
   "outputs": [],
   "source": [
    "import glob\n",
    "import pickle\n",
    "import numpy"
   ]
  },
  {
   "cell_type": "code",
   "execution_count": 2,
   "id": "f359eef6",
   "metadata": {},
   "outputs": [],
   "source": [
    "from music21 import converter, instrument, note, chord"
   ]
  },
  {
   "cell_type": "markdown",
   "id": "d9f5b646",
   "metadata": {},
   "source": [
    "Creating the model using stacked Lstm. This means there are multiple layers of lstm inside the model handling learning therefore creating a robust model.The dropout layers provide regularisation and reduce overfitting. Softmax activation and categorical cross entropy is used to calculate the loss which measures the difference between the real next note and our predicted next note."
   ]
  },
  {
   "cell_type": "code",
   "execution_count": 3,
   "id": "6b48890b",
   "metadata": {},
   "outputs": [],
   "source": [
    "from keras.models import Sequential\n",
    "from keras.layers import Dense\n",
    "from keras.layers import Dropout\n",
    "from keras.layers import LSTM\n",
    "from keras.layers import Activation\n",
    "from keras.layers import BatchNormalization as BatchNorm\n",
    "from keras.utils import np_utils\n",
    "from keras.callbacks import ModelCheckpoint"
   ]
  },
  {
   "cell_type": "markdown",
   "id": "b115ad64",
   "metadata": {},
   "source": [
    "We load each file into a Music21 object using the converter.parse. This will parse the files and We will get a list of notes and chords.Using the Music21 .PartitionByInstrument function, the file is broken up into individual instruments, if there are multiple instruments. Each instrument contains a list of notes which are extracted and appended to a list. We can then save these into a file using pickle. We append the pitch of every note object using its string notation and every chord by encoding the id of every note in the chord. Now that we have put all the notes and chords into a sequential list, we create sequences that will work as an input."
   ]
  },
  {
   "cell_type": "code",
   "execution_count": 4,
   "id": "29dc0d0b",
   "metadata": {},
   "outputs": [
    {
     "name": "stdout",
     "output_type": "stream",
     "text": [
      "Ongoing converter parsing on file ../Dataset/midi_songs\\0fithos.mid\n",
      "Ongoing converter parsing on file ../Dataset/midi_songs\\8.mid\n",
      "Ongoing converter parsing on file ../Dataset/midi_songs\\ahead_on_our_way_piano.mid\n",
      "Ongoing converter parsing on file ../Dataset/midi_songs\\AT.mid\n",
      "Ongoing converter parsing on file ../Dataset/midi_songs\\balamb.mid\n",
      "Ongoing converter parsing on file ../Dataset/midi_songs\\bcm.mid\n",
      "Ongoing converter parsing on file ../Dataset/midi_songs\\BlueStone_LastDungeon.mid\n",
      "Ongoing converter parsing on file ../Dataset/midi_songs\\braska.mid\n",
      "Ongoing converter parsing on file ../Dataset/midi_songs\\caitsith.mid\n",
      "Ongoing converter parsing on file ../Dataset/midi_songs\\Cids.mid\n",
      "Ongoing converter parsing on file ../Dataset/midi_songs\\cosmo.mid\n",
      "Ongoing converter parsing on file ../Dataset/midi_songs\\costadsol.mid\n",
      "Ongoing converter parsing on file ../Dataset/midi_songs\\dayafter.mid\n",
      "Ongoing converter parsing on file ../Dataset/midi_songs\\decisive.mid\n",
      "Ongoing converter parsing on file ../Dataset/midi_songs\\dontbeafraid.mid\n",
      "Ongoing converter parsing on file ../Dataset/midi_songs\\DOS.mid\n",
      "Ongoing converter parsing on file ../Dataset/midi_songs\\electric_de_chocobo.mid\n",
      "Ongoing converter parsing on file ../Dataset/midi_songs\\Eternal_Harvest.mid\n",
      "Ongoing converter parsing on file ../Dataset/midi_songs\\EyesOnMePiano.mid\n",
      "Ongoing converter parsing on file ../Dataset/midi_songs\\ff11_awakening_piano.mid\n",
      "Ongoing converter parsing on file ../Dataset/midi_songs\\ff1battp.mid\n",
      "Ongoing converter parsing on file ../Dataset/midi_songs\\FF3_Battle_(Piano).mid\n",
      "Ongoing converter parsing on file ../Dataset/midi_songs\\FF3_Third_Phase_Final_(Piano).mid\n",
      "Ongoing converter parsing on file ../Dataset/midi_songs\\ff4-airship.mid\n",
      "Ongoing converter parsing on file ../Dataset/midi_songs\\Ff4-BattleLust.mid\n",
      "Ongoing converter parsing on file ../Dataset/midi_songs\\ff4-fight1.mid\n",
      "Ongoing converter parsing on file ../Dataset/midi_songs\\ff4-town.mid\n",
      "Ongoing converter parsing on file ../Dataset/midi_songs\\FF4.mid\n",
      "Ongoing converter parsing on file ../Dataset/midi_songs\\ff4pclov.mid\n",
      "Ongoing converter parsing on file ../Dataset/midi_songs\\ff4_piano_collections-main_theme.mid\n",
      "Ongoing converter parsing on file ../Dataset/midi_songs\\FF6epitaph_piano.mid\n",
      "Ongoing converter parsing on file ../Dataset/midi_songs\\ff6shap.mid\n",
      "Ongoing converter parsing on file ../Dataset/midi_songs\\Ff7-Cinco.mid\n",
      "Ongoing converter parsing on file ../Dataset/midi_songs\\Ff7-Jenova_Absolute.mid\n",
      "Ongoing converter parsing on file ../Dataset/midi_songs\\ff7-mainmidi.mid\n",
      "Ongoing converter parsing on file ../Dataset/midi_songs\\Ff7-One_Winged.mid\n",
      "Ongoing converter parsing on file ../Dataset/midi_songs\\ff7themep.mid\n",
      "Ongoing converter parsing on file ../Dataset/midi_songs\\ff8-lfp.mid\n",
      "Ongoing converter parsing on file ../Dataset/midi_songs\\FF8_Shuffle_or_boogie_pc.mid\n",
      "Ongoing converter parsing on file ../Dataset/midi_songs\\FFIII_Edgar_And_Sabin_Piano.mid\n",
      "Ongoing converter parsing on file ../Dataset/midi_songs\\FFIXQuMarshP.mid\n",
      "Ongoing converter parsing on file ../Dataset/midi_songs\\FFIX_Piano.mid\n",
      "Ongoing converter parsing on file ../Dataset/midi_songs\\FFVII_BATTLE.mid\n",
      "Ongoing converter parsing on file ../Dataset/midi_songs\\FFX_-_Ending_Theme_(Piano_Version)_-_by_Angel_FF.mid\n",
      "Ongoing converter parsing on file ../Dataset/midi_songs\\Fiend_Battle_(Piano).mid\n",
      "Ongoing converter parsing on file ../Dataset/midi_songs\\Fierce_Battle_(Piano).mid\n",
      "Ongoing converter parsing on file ../Dataset/midi_songs\\figaro.mid\n",
      "Ongoing converter parsing on file ../Dataset/midi_songs\\Finalfantasy5gilgameshp.mid\n",
      "Ongoing converter parsing on file ../Dataset/midi_songs\\Finalfantasy6fanfarecomplete.mid\n",
      "Ongoing converter parsing on file ../Dataset/midi_songs\\Final_Fantasy_7_-_Judgement_Day_Piano.mid\n",
      "Ongoing converter parsing on file ../Dataset/midi_songs\\Final_Fantasy_Matouyas_Cave_Piano.mid\n",
      "Ongoing converter parsing on file ../Dataset/midi_songs\\fortresscondor.mid\n",
      "Ongoing converter parsing on file ../Dataset/midi_songs\\Fyw_piano.mid\n",
      "Ongoing converter parsing on file ../Dataset/midi_songs\\gerudo.mid\n",
      "Ongoing converter parsing on file ../Dataset/midi_songs\\goldsaucer.mid\n",
      "Ongoing converter parsing on file ../Dataset/midi_songs\\Gold_Silver_Rival_Battle.mid\n",
      "Ongoing converter parsing on file ../Dataset/midi_songs\\great_war.mid\n",
      "Ongoing converter parsing on file ../Dataset/midi_songs\\HighwindTakestotheSkies.mid\n",
      "Ongoing converter parsing on file ../Dataset/midi_songs\\In_Zanarkand.mid\n",
      "Ongoing converter parsing on file ../Dataset/midi_songs\\JENOVA.mid\n",
      "Ongoing converter parsing on file ../Dataset/midi_songs\\Kingdom_Hearts_Dearly_Beloved.mid\n",
      "Ongoing converter parsing on file ../Dataset/midi_songs\\Kingdom_Hearts_Traverse_Town.mid\n",
      "Ongoing converter parsing on file ../Dataset/midi_songs\\Life_Stream.mid\n",
      "Ongoing converter parsing on file ../Dataset/midi_songs\\lurk_in_dark.mid\n",
      "Ongoing converter parsing on file ../Dataset/midi_songs\\mining.mid\n",
      "Ongoing converter parsing on file ../Dataset/midi_songs\\Oppressed.mid\n",
      "Ongoing converter parsing on file ../Dataset/midi_songs\\OTD5YA.mid\n",
      "Ongoing converter parsing on file ../Dataset/midi_songs\\path_of_repentance.mid\n",
      "Ongoing converter parsing on file ../Dataset/midi_songs\\pkelite4.mid\n",
      "Ongoing converter parsing on file ../Dataset/midi_songs\\Rachel_Piano_tempofix.mid\n",
      "Ongoing converter parsing on file ../Dataset/midi_songs\\redwings.mid\n",
      "Ongoing converter parsing on file ../Dataset/midi_songs\\relmstheme-piano.mid\n",
      "Ongoing converter parsing on file ../Dataset/midi_songs\\roseofmay-piano.mid\n",
      "Ongoing converter parsing on file ../Dataset/midi_songs\\rufus.mid\n",
      "Ongoing converter parsing on file ../Dataset/midi_songs\\Rydia_pc.mid\n",
      "Ongoing converter parsing on file ../Dataset/midi_songs\\sandy.mid\n",
      "Ongoing converter parsing on file ../Dataset/midi_songs\\sera_.mid\n",
      "Ongoing converter parsing on file ../Dataset/midi_songs\\sobf.mid\n",
      "Ongoing converter parsing on file ../Dataset/midi_songs\\Still_Alive-1.mid\n",
      "Ongoing converter parsing on file ../Dataset/midi_songs\\Suteki_Da_Ne_(Piano_Version).mid\n",
      "Ongoing converter parsing on file ../Dataset/midi_songs\\thenightmarebegins.mid\n",
      "Ongoing converter parsing on file ../Dataset/midi_songs\\thoughts.mid\n",
      "Ongoing converter parsing on file ../Dataset/midi_songs\\tifap.mid\n",
      "Ongoing converter parsing on file ../Dataset/midi_songs\\tpirtsd-piano.mid\n",
      "Ongoing converter parsing on file ../Dataset/midi_songs\\traitor.mid\n",
      "Ongoing converter parsing on file ../Dataset/midi_songs\\ultimafro.mid\n",
      "Ongoing converter parsing on file ../Dataset/midi_songs\\ultros.mid\n",
      "Ongoing converter parsing on file ../Dataset/midi_songs\\VincentPiano.mid\n",
      "Ongoing converter parsing on file ../Dataset/midi_songs\\ViviinAlexandria.mid\n",
      "Ongoing converter parsing on file ../Dataset/midi_songs\\waltz_de_choco.mid\n",
      "Ongoing converter parsing on file ../Dataset/midi_songs\\Zelda_Overworld.mid\n",
      "Ongoing converter parsing on file ../Dataset/midi_songs\\z_aeristhemepiano.mid\n"
     ]
    }
   ],
   "source": [
    "final_notes = []\n",
    "for file in glob.glob(\"../Dataset/midi_songs/*.mid\"):\n",
    "    midi = converter.parse(file)\n",
    "    print(\"Ongoing converter parsing on file %s\" % file)\n",
    "    parsed_notes = None\n",
    "    try: \n",
    "        s2 = instrument.partitionByInstrument(midi)\n",
    "        parsed_notes = s2.parts[0].recurse() \n",
    "    except: \n",
    "        parsed_notes = midi.flat.notes\n",
    "    for element in parsed_notes:\n",
    "        if isinstance(element, note.Note):\n",
    "            final_notes.append(str(element.pitch))\n",
    "        elif isinstance(element, chord.Chord):\n",
    "            final_notes.append('.'.join(str(n) for n in element.normalOrder))\n",
    "\n",
    "with open(\"../Dataset/data/notes\", 'wb') as filepath:\n",
    "    pickle.dump(final_notes, filepath)"
   ]
  },
  {
   "cell_type": "code",
   "execution_count": 5,
   "id": "552e1f8d",
   "metadata": {},
   "outputs": [],
   "source": [
    "n_vocab = len(set(final_notes))\n",
    "\n",
    "sequence_length = 100\n",
    "sorted_set = sorted(set(item for item in final_notes))\n",
    "note_to_int = dict((note, number) for number, note in enumerate(sorted_set))\n",
    "\n",
    "network_input = []\n",
    "network_output = []\n",
    "\n",
    "    \n",
    "for i in range(0, len(final_notes) - sequence_length, 1):\n",
    "    sequence_in = final_notes[i:i + sequence_length] #creating input sequence with first 100 notes \n",
    "    sequence_out = final_notes[i + sequence_length] #creating output sequence with the remaining notes\n",
    "    network_input.append([note_to_int[char] for char in sequence_in])\n",
    "    network_output.append(note_to_int[sequence_out])\n",
    "\n",
    "n_patterns = len(network_input)\n",
    "\n",
    "network_input = numpy.reshape(network_input, (n_patterns, sequence_length, 1))\n",
    "\n",
    "network_input = network_input / float(n_vocab)\n",
    "\n",
    "network_output = np_utils.to_categorical(network_output)\n"
   ]
  },
  {
   "cell_type": "code",
   "execution_count": 6,
   "id": "67fe38a5",
   "metadata": {},
   "outputs": [
    {
     "data": {
      "text/plain": [
       "array([[[0.44480519],\n",
       "        [0.90584416],\n",
       "        [0.44480519],\n",
       "        ...,\n",
       "        [0.98376623],\n",
       "        [0.7987013 ],\n",
       "        [0.88961039]],\n",
       "\n",
       "       [[0.90584416],\n",
       "        [0.44480519],\n",
       "        [0.44480519],\n",
       "        ...,\n",
       "        [0.7987013 ],\n",
       "        [0.88961039],\n",
       "        [0.11363636]],\n",
       "\n",
       "       [[0.44480519],\n",
       "        [0.44480519],\n",
       "        [0.44480519],\n",
       "        ...,\n",
       "        [0.88961039],\n",
       "        [0.11363636],\n",
       "        [0.96428571]],\n",
       "\n",
       "       ...,\n",
       "\n",
       "       [[0.30519481],\n",
       "        [0.30194805],\n",
       "        [0.41883117],\n",
       "        ...,\n",
       "        [0.15909091],\n",
       "        [0.98701299],\n",
       "        [0.04545455]],\n",
       "\n",
       "       [[0.30194805],\n",
       "        [0.41883117],\n",
       "        [0.73051948],\n",
       "        ...,\n",
       "        [0.98701299],\n",
       "        [0.04545455],\n",
       "        [0.86688312]],\n",
       "\n",
       "       [[0.41883117],\n",
       "        [0.73051948],\n",
       "        [0.90909091],\n",
       "        ...,\n",
       "        [0.04545455],\n",
       "        [0.86688312],\n",
       "        [0.30194805]]])"
      ]
     },
     "execution_count": 6,
     "metadata": {},
     "output_type": "execute_result"
    }
   ],
   "source": [
    "network_input"
   ]
  },
  {
   "cell_type": "code",
   "execution_count": 7,
   "id": "99af6fff",
   "metadata": {},
   "outputs": [],
   "source": [
    "model = Sequential()\n",
    "model.add(LSTM(512,input_shape=(network_input.shape[1], network_input.shape[2]),recurrent_dropout=0.3,return_sequences=True))\n",
    "model.add(LSTM(512, return_sequences=True, recurrent_dropout=0.3,))\n",
    "model.add(LSTM(512))\n",
    "model.add(BatchNorm())\n",
    "model.add(Dropout(0.3))\n",
    "model.add(Dense(256))\n",
    "model.add(Activation('relu'))\n",
    "model.add(BatchNorm())\n",
    "model.add(Dropout(0.3))\n",
    "model.add(Dense(n_vocab))\n",
    "model.add(Activation('softmax'))\n",
    "model.compile(loss='categorical_crossentropy', optimizer='rmsprop')\n",
    "\n"
   ]
  },
  {
   "cell_type": "code",
   "execution_count": null,
   "id": "b9bd8ab9",
   "metadata": {},
   "outputs": [],
   "source": [
    "model.fit(network_input, network_output, epochs=1, batch_size=128)"
   ]
  },
  {
   "cell_type": "markdown",
   "id": "68c4df04",
   "metadata": {},
   "source": [
    "Generate notes from the neural network based on a sequence of notes"
   ]
  },
  {
   "cell_type": "code",
   "execution_count": null,
   "id": "a4fb59e3",
   "metadata": {},
   "outputs": [],
   "source": [
    "start = numpy.random.randint(0, len(network_input)-1)\n",
    "int_to_note = dict((number, note) for number, note in enumerate(sorted_set))\n",
    "pattern = network_input[start]\n",
    "prediction_output = []\n",
    "for note_index in range(500):\n",
    "    prediction_input = numpy.reshape(pattern, (1, len(pattern), 1))\n",
    "    prediction_input = prediction_input / float(n_vocab)\n",
    "    prediction = model.predict(prediction_input, verbose=0)\n",
    "    index = numpy.argmax(prediction)\n",
    "    result = int_to_note[index]\n",
    "    prediction_output.append(result)\n",
    "    pattern.append(index)\n",
    "    pattern = pattern[1:len(pattern)]"
   ]
  },
  {
   "cell_type": "markdown",
   "id": "93788e54",
   "metadata": {},
   "source": [
    "convert the output from the prediction to notes and create a midi file from the notes"
   ]
  },
  {
   "cell_type": "code",
   "execution_count": null,
   "id": "0669af61",
   "metadata": {},
   "outputs": [],
   "source": [
    "offset = 0\n",
    "output_notes = []\n",
    "for pattern in prediction_output:\n",
    "    if ('.' in pattern) or pattern.isdigit():\n",
    "        notes_in_chord = pattern.split('.')\n",
    "        notes = []\n",
    "        for current_note in notes_in_chord:\n",
    "            new_note = note.Note(int(current_note))\n",
    "            new_note.storedInstrument = instrument.Piano()\n",
    "            notes.append(new_note)\n",
    "        new_chord = chord.Chord(notes)\n",
    "        new_chord.offset = offset\n",
    "        output_notes.append(new_chord)\n",
    "\n",
    "    else:\n",
    "        new_note = note.Note(pattern)\n",
    "        new_note.offset = offset\n",
    "        new_note.storedInstrument = instrument.Piano()\n",
    "        output_notes.append(new_note)\n",
    "\n",
    "        # increase offset each iteration so that notes do not stack\n",
    "    offset += 0.5\n",
    "\n",
    "midi_stream = stream.Stream(output_notes)\n",
    "\n",
    "midi_stream.write('midi', fp='output.mid')"
   ]
  },
  {
   "cell_type": "code",
   "execution_count": null,
   "id": "0d0acc8b",
   "metadata": {},
   "outputs": [],
   "source": []
  }
 ],
 "metadata": {
  "kernelspec": {
   "display_name": "Python 3 (ipykernel)",
   "language": "python",
   "name": "python3"
  },
  "language_info": {
   "codemirror_mode": {
    "name": "ipython",
    "version": 3
   },
   "file_extension": ".py",
   "mimetype": "text/x-python",
   "name": "python",
   "nbconvert_exporter": "python",
   "pygments_lexer": "ipython3",
   "version": "3.8.5"
  }
 },
 "nbformat": 4,
 "nbformat_minor": 5
}
